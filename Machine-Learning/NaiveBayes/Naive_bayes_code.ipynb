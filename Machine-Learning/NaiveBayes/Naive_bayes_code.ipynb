{
  "nbformat": 4,
  "nbformat_minor": 0,
  "metadata": {
    "colab": {
      "provenance": []
    },
    "kernelspec": {
      "name": "python3",
      "display_name": "Python 3"
    },
    "language_info": {
      "name": "python"
    }
  },
  "cells": [
    {
      "cell_type": "code",
      "execution_count": 1,
      "metadata": {
        "id": "8JCGxAOyssOn"
      },
      "outputs": [],
      "source": [
        "from sklearn.naive_bayes import GaussianNB\n",
        "from sklearn.naive_bayes import MultinomialNB\n",
        "from sklearn import datasets\n",
        "from sklearn.metrics import confusion_matrix"
      ]
    },
    {
      "cell_type": "code",
      "source": [
        "iris = datasets.load_iris()\n",
        "\n",
        "gnb = GaussianNB()\n",
        "mnb = MultinomialNB()\n",
        "\n",
        "y_pred_gnb = gnb.fit(iris.data, iris.target).predict(iris.data)\n",
        "cnf_matrix_gnb = confusion_matrix(iris.target, y_pred_gnb)\n",
        "\n",
        "print(cnf_matrix_gnb)"
      ],
      "metadata": {
        "colab": {
          "base_uri": "https://localhost:8080/"
        },
        "id": "yyfOHp_7svEC",
        "outputId": "9befd6ad-fba3-4a7d-c7ec-04f955d93ffd"
      },
      "execution_count": 2,
      "outputs": [
        {
          "output_type": "stream",
          "name": "stdout",
          "text": [
            "[[50  0  0]\n",
            " [ 0 47  3]\n",
            " [ 0  3 47]]\n"
          ]
        }
      ]
    },
    {
      "cell_type": "code",
      "source": [
        "y_pred_mnb = mnb.fit(iris.data, iris.target).predict(iris.data)\n",
        "cnf_matrix_mnb = confusion_matrix(iris.target, y_pred_mnb)\n",
        "\n",
        "print(cnf_matrix_mnb)"
      ],
      "metadata": {
        "id": "ml9_-BQys2aV",
        "outputId": "3d639334-d4da-4af1-8093-0f837ebb488b",
        "colab": {
          "base_uri": "https://localhost:8080/"
        }
      },
      "execution_count": 3,
      "outputs": [
        {
          "output_type": "stream",
          "name": "stdout",
          "text": [
            "[[50  0  0]\n",
            " [ 0 46  4]\n",
            " [ 0  3 47]]\n"
          ]
        }
      ]
    }
  ]
}